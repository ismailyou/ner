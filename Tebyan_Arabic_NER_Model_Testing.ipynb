{
  "nbformat": 4,
  "nbformat_minor": 0,
  "metadata": {
    "colab": {
      "name": "Tebyan_Arabic_NER_Model_Testing.ipynb",
      "provenance": [],
      "collapsed_sections": [],
      "include_colab_link": true
    },
    "kernelspec": {
      "name": "python3",
      "display_name": "Python 3"
    },
    "language_info": {
      "name": "python"
    },
    "accelerator": "GPU"
  },
  "cells": [
    {
      "cell_type": "markdown",
      "metadata": {
        "id": "view-in-github",
        "colab_type": "text"
      },
      "source": [
        "<a href=\"https://colab.research.google.com/github/ismailyou/ner/blob/main/Tebyan_Arabic_NER_Model_Testing.ipynb\" target=\"_parent\"><img src=\"https://colab.research.google.com/assets/colab-badge.svg\" alt=\"Open In Colab\"/></a>"
      ]
    },
    {
      "cell_type": "code",
      "metadata": {
        "id": "2S6yjmkar6LG"
      },
      "source": [
        "!pip3 install simpletransformers==0.61.5 nltk==3.5"
      ],
      "execution_count": null,
      "outputs": []
    },
    {
      "cell_type": "code",
      "metadata": {
        "id": "ziEifcGzscCe"
      },
      "source": [
        "from simpletransformers.ner import NERModel, NERArgs\n",
        "import logging\n",
        "import re\n",
        "\n",
        "import nltk\n",
        "nltk.download('punkt')\n",
        "from nltk.tokenize import word_tokenize\n",
        "\n",
        "logging.basicConfig(level=logging.INFO)\n",
        "transformers_logger = logging.getLogger(\"transformers\")\n",
        "transformers_logger.setLevel(logging.WARNING)"
      ],
      "execution_count": null,
      "outputs": []
    },
    {
      "cell_type": "markdown",
      "metadata": {
        "id": "y74C07iaswRS"
      },
      "source": [
        "## Load the Model"
      ]
    },
    {
      "cell_type": "code",
      "metadata": {
        "id": "7SJBvtDxsl9_"
      },
      "source": [
        "# Load the Model\n",
        "custom_labels = [\"O\", \"B-job\", \"I-job\", \"B-nationality\", \"B-person\", \"I-person\", \"B-location\",\n",
        "                 \"B-time\", \"I-time\", \"B-event\", \"I-event\", \"B-organization\", \"I-organization\",\n",
        "                 \"I-location\", \"I-nationality\", \"B-product\", \"I-product\", \"B-artwork\", \"I-artwork\"]\n",
        "\n",
        "model_args = NERArgs()\n",
        "model_args.labels_list=custom_labels\n",
        "model_args.silent = True\n",
        "\n",
        "ner_model = NERModel(\n",
        "     \"xlmroberta\", \"marefa-nlp/marefa-ner\",\n",
        "     args=model_args,\n",
        "     use_cuda=True # set to False to use CPU\n",
        ")"
      ],
      "execution_count": null,
      "outputs": []
    },
    {
      "cell_type": "markdown",
      "metadata": {
        "id": "ieIjAavbs36p"
      },
      "source": [
        "## Model Inference"
      ]
    },
    {
      "cell_type": "code",
      "metadata": {
        "id": "3j-PAEYntShR"
      },
      "source": [
        "# Model Inference\n",
        "samples = [\n",
        "    \"تلقى تعليمه في الكتاب ثم انضم الى الأزهر عام 1873م. تعلم على يد السيد جمال الدين الأفغاني والشيخ محمد عبده\",\n",
        "    \"بعد عودته إلى القاهرة، التحق نجيب الريحاني فرقة جورج أبيض، الذي كان قد ضمَّ - قُبيل ذلك - فرقته إلى فرقة سلامة حجازي . و منها ذاع صيته\",\n",
        "    \"امبارح اتفرجت على مباراة مانشستر يونايتد مع ريال مدريد في غياب الدون كرستيانو رونالدو\",\n",
        "    \"Government extends flight ban from India, Pakistan until June 21\"\n",
        "]\n",
        "\n",
        "# Preprocess\n",
        "samples = [ \" \".join(word_tokenize(sample.strip())) for sample in samples if sample.strip() != \"\" ]\n",
        "\n",
        "# Predict\n",
        "predictions, raw_outputs = ner_model.predict(samples)"
      ],
      "execution_count": null,
      "outputs": []
    },
    {
      "cell_type": "code",
      "metadata": {
        "colab": {
          "base_uri": "https://localhost:8080/"
        },
        "id": "GMFUtNmLtZEw",
        "outputId": "487082ee-8102-4fca-f031-a8ac4a0413ac"
      },
      "source": [
        "# Group the Predicted Entities\n",
        "entities = []\n",
        "for pred in predictions:\n",
        "  grouped_entities = []\n",
        "  for rec in pred:\n",
        "\n",
        "    token = list(rec.keys())[0]\n",
        "    label = rec[token]\n",
        "\n",
        "    if label == \"O\":\n",
        "      continue\n",
        "\n",
        "    if \"B-\" in label:\n",
        "      grouped_entities.append({\"token\": token, \"label\": label.replace(\"B-\",\"\")})\n",
        "    elif \"I-\" in label and len(grouped_entities) > 0:\n",
        "      grouped_entities[-1][\"token\"] += f\" {token}\"\n",
        "\n",
        "  entities.append(grouped_entities)\n",
        "\n",
        "# Print the model outputs\n",
        "for sample, results in zip(samples, entities):\n",
        "  print(sample)\n",
        "  for res in results:\n",
        "    print(\"\\t\", res[\"token\"], \"=>\", res[\"label\"])\n",
        "  print(\"==================\")"
      ],
      "execution_count": null,
      "outputs": [
        {
          "output_type": "stream",
          "text": [
            "تلقى تعليمه في الكتاب ثم انضم الى الأزهر عام 1873م . تعلم على يد السيد جمال الدين الأفغاني والشيخ محمد عبده\n",
            "\t الأزهر => organization\n",
            "\t عام 1873م => time\n",
            "\t جمال الدين الأفغاني => person\n",
            "\t محمد عبده => person\n",
            "==================\n",
            "بعد عودته إلى القاهرة، التحق نجيب الريحاني فرقة جورج أبيض، الذي كان قد ضمَّ - قُبيل ذلك - فرقته إلى فرقة سلامة حجازي . و منها ذاع صيته\n",
            "\t القاهرة، => location\n",
            "\t نجيب الريحاني => person\n",
            "\t فرقة جورج أبيض، => organization\n",
            "\t فرقة سلامة حجازي => organization\n",
            "==================\n",
            "امبارح اتفرجت على مباراة مانشستر يونايتد مع ريال مدريد في غياب الدون كرستيانو رونالدو\n",
            "\t مانشستر يونايتد => organization\n",
            "\t ريال مدريد => organization\n",
            "\t كرستيانو رونالدو => person\n",
            "==================\n",
            "Government extends flight ban from India , Pakistan until June 21\n",
            "\t India => location\n",
            "\t Pakistan => location\n",
            "\t June 21 => time\n",
            "==================\n"
          ],
          "name": "stdout"
        }
      ]
    }
  ]
}